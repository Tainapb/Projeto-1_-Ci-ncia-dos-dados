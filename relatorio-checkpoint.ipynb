{
 "cells": [
  {
   "cell_type": "markdown",
   "metadata": {},
   "source": [
    "# Projeto 1 - Ciência dos Dados"
   ]
  },
  {
   "cell_type": "markdown",
   "metadata": {},
   "source": [
    "Nome: _____\n",
    "\n",
    "Nome: _____"
   ]
  },
  {
   "cell_type": "markdown",
   "metadata": {},
   "source": [
    "Atenção: Serão permitidos grupos de três pessoas, mas com uma rubrica mais exigente. Grupos deste tamanho precisarão fazer um questionário de avaliação de trabalho em equipe"
   ]
  },
  {
   "cell_type": "markdown",
   "metadata": {},
   "source": [
    "___\n",
    "Carregando algumas bibliotecas:"
   ]
  },
  {
   "cell_type": "code",
   "execution_count": 1,
   "metadata": {},
   "outputs": [],
   "source": [
    "%matplotlib inline\n",
    "import pandas as pd\n",
    "import matplotlib.pyplot as plt\n",
    "import numpy as np\n",
    "import os"
   ]
  },
  {
   "cell_type": "code",
   "execution_count": 2,
   "metadata": {
    "scrolled": false
   },
   "outputs": [
    {
     "name": "stdout",
     "output_type": "stream",
     "text": [
      "Esperamos trabalhar no diretório\n",
      "C:\\Users\\luana\\OneDrive\\Área de Trabalho\\INSPER\\SEGUNDO SEMESTRE\\CDADOS\\22-1b-cd-p1-grupo_leandraff-1\n"
     ]
    }
   ],
   "source": [
    "print('Esperamos trabalhar no diretório')\n",
    "print(os.getcwd())"
   ]
  },
  {
   "cell_type": "code",
   "execution_count": 3,
   "metadata": {},
   "outputs": [],
   "source": [
    "import re \n",
    "\n",
    "\n",
    "def cleanup(text):\n",
    "    \"\"\"\n",
    "        Função de limpeza muito simples que troca alguns sinais básicos por espaços\n",
    "    \"\"\"\n",
    "    #import string\n",
    "    punctuation = '[\",!-.:?;çã'']' # Note que os sinais [] são delimitadores de um conjunto.\n",
    "#     punctuation = '[!-.:?;]'\n",
    "    pattern = re.compile(punctuation)\n",
    "    \n",
    "    text_subbed = re.sub(pattern, '', text)\n",
    "    return text_subbed"
   ]
  },
  {
   "cell_type": "markdown",
   "metadata": {},
   "source": [
    "Carregando a base de dados com as notícias classificadas manualmente:"
   ]
  },
  {
   "cell_type": "code",
   "execution_count": 4,
   "metadata": {},
   "outputs": [],
   "source": [
    "filename = 'dados.xlsx'"
   ]
  },
  {
   "cell_type": "code",
   "execution_count": 5,
   "metadata": {},
   "outputs": [
    {
     "data": {
      "text/html": [
       "<div>\n",
       "<style scoped>\n",
       "    .dataframe tbody tr th:only-of-type {\n",
       "        vertical-align: middle;\n",
       "    }\n",
       "\n",
       "    .dataframe tbody tr th {\n",
       "        vertical-align: top;\n",
       "    }\n",
       "\n",
       "    .dataframe thead th {\n",
       "        text-align: right;\n",
       "    }\n",
       "</style>\n",
       "<table border=\"1\" class=\"dataframe\">\n",
       "  <thead>\n",
       "    <tr style=\"text-align: right;\">\n",
       "      <th></th>\n",
       "      <th>Categoria</th>\n",
       "      <th>Titulo</th>\n",
       "      <th>PrimeiroParag</th>\n",
       "      <th>Data</th>\n",
       "      <th>Pagina</th>\n",
       "      <th>Target</th>\n",
       "      <th>Unnamed: 6</th>\n",
       "      <th>Unnamed: 7</th>\n",
       "      <th>Unnamed: 8</th>\n",
       "    </tr>\n",
       "  </thead>\n",
       "  <tbody>\n",
       "    <tr>\n",
       "      <th>0</th>\n",
       "      <td>Comprar ou vender?</td>\n",
       "      <td>Magazine Luiza (MGLU3) e Via (VIIA3) são os qu...</td>\n",
       "      <td>Na última sexta-feira (25), o Governo Federal ...</td>\n",
       "      <td>02/03/2022 - 18:37</td>\n",
       "      <td>37.0</td>\n",
       "      <td>2.0</td>\n",
       "      <td>NaN</td>\n",
       "      <td>139.0</td>\n",
       "      <td>NaN</td>\n",
       "    </tr>\n",
       "    <tr>\n",
       "      <th>1</th>\n",
       "      <td>Economia</td>\n",
       "      <td>Inflação argentina atinge 3,9% em janeiro, mai...</td>\n",
       "      <td>O Índice de Preços ao Consumidor (CPI, na sigl...</td>\n",
       "      <td>15/02/2022 - 16:56</td>\n",
       "      <td>88.0</td>\n",
       "      <td>1.0</td>\n",
       "      <td>NaN</td>\n",
       "      <td>NaN</td>\n",
       "      <td>NaN</td>\n",
       "    </tr>\n",
       "    <tr>\n",
       "      <th>2</th>\n",
       "      <td>Agro Times</td>\n",
       "      <td>Preços do açúcar devem cair este ano, pequeno ...</td>\n",
       "      <td>O preço do açúcar bruto deve terminar este ano...</td>\n",
       "      <td>08/02/2022 - 11:05</td>\n",
       "      <td>113.0</td>\n",
       "      <td>1.0</td>\n",
       "      <td>NaN</td>\n",
       "      <td>NaN</td>\n",
       "      <td>NaN</td>\n",
       "    </tr>\n",
       "    <tr>\n",
       "      <th>3</th>\n",
       "      <td>Mercados</td>\n",
       "      <td>Bolsas europeias afundam após ataque russo à U...</td>\n",
       "      <td>As Bolsas europeias sofreram fortes quedas nes...</td>\n",
       "      <td>24/02/2022 - 8:11</td>\n",
       "      <td>58.0</td>\n",
       "      <td>0.0</td>\n",
       "      <td>NaN</td>\n",
       "      <td>NaN</td>\n",
       "      <td>NaN</td>\n",
       "    </tr>\n",
       "    <tr>\n",
       "      <th>4</th>\n",
       "      <td>Mercados</td>\n",
       "      <td>Ibovespa abre em queda, com mercado monitorand...</td>\n",
       "      <td>O Ibovespa (IBOV) abriu esta sexta-feira (4) e...</td>\n",
       "      <td>04/03/2022 - 10:11</td>\n",
       "      <td>28.0</td>\n",
       "      <td>1.0</td>\n",
       "      <td>NaN</td>\n",
       "      <td>NaN</td>\n",
       "      <td>NaN</td>\n",
       "    </tr>\n",
       "  </tbody>\n",
       "</table>\n",
       "</div>"
      ],
      "text/plain": [
       "             Categoria                                             Titulo  \\\n",
       "0  Comprar ou vender?   Magazine Luiza (MGLU3) e Via (VIIA3) são os qu...   \n",
       "1            Economia   Inflação argentina atinge 3,9% em janeiro, mai...   \n",
       "2          Agro Times   Preços do açúcar devem cair este ano, pequeno ...   \n",
       "3            Mercados   Bolsas europeias afundam após ataque russo à U...   \n",
       "4            Mercados   Ibovespa abre em queda, com mercado monitorand...   \n",
       "\n",
       "                                       PrimeiroParag                Data  \\\n",
       "0  Na última sexta-feira (25), o Governo Federal ...  02/03/2022 - 18:37   \n",
       "1  O Índice de Preços ao Consumidor (CPI, na sigl...  15/02/2022 - 16:56   \n",
       "2  O preço do açúcar bruto deve terminar este ano...  08/02/2022 - 11:05   \n",
       "3  As Bolsas europeias sofreram fortes quedas nes...   24/02/2022 - 8:11   \n",
       "4  O Ibovespa (IBOV) abriu esta sexta-feira (4) e...  04/03/2022 - 10:11   \n",
       "\n",
       "   Pagina  Target  Unnamed: 6  Unnamed: 7  Unnamed: 8  \n",
       "0    37.0     2.0         NaN       139.0         NaN  \n",
       "1    88.0     1.0         NaN         NaN         NaN  \n",
       "2   113.0     1.0         NaN         NaN         NaN  \n",
       "3    58.0     0.0         NaN         NaN         NaN  \n",
       "4    28.0     1.0         NaN         NaN         NaN  "
      ]
     },
     "execution_count": 5,
     "metadata": {},
     "output_type": "execute_result"
    }
   ],
   "source": [
    "train = pd.read_excel(filename, sheet_name = 'Treinamento')\n",
    "train.head(5)"
   ]
  },
  {
   "cell_type": "code",
   "execution_count": 6,
   "metadata": {},
   "outputs": [
    {
     "data": {
      "text/html": [
       "<div>\n",
       "<style scoped>\n",
       "    .dataframe tbody tr th:only-of-type {\n",
       "        vertical-align: middle;\n",
       "    }\n",
       "\n",
       "    .dataframe tbody tr th {\n",
       "        vertical-align: top;\n",
       "    }\n",
       "\n",
       "    .dataframe thead th {\n",
       "        text-align: right;\n",
       "    }\n",
       "</style>\n",
       "<table border=\"1\" class=\"dataframe\">\n",
       "  <thead>\n",
       "    <tr style=\"text-align: right;\">\n",
       "      <th></th>\n",
       "      <th>Categoria</th>\n",
       "      <th>Titulo</th>\n",
       "      <th>PrimeiroParag</th>\n",
       "      <th>Data</th>\n",
       "      <th>Pagina</th>\n",
       "      <th>Target</th>\n",
       "      <th>Unnamed: 6</th>\n",
       "      <th>Unnamed: 7</th>\n",
       "      <th>Unnamed: 8</th>\n",
       "      <th>Unnamed: 9</th>\n",
       "      <th>Unnamed: 10</th>\n",
       "      <th>Unnamed: 11</th>\n",
       "    </tr>\n",
       "  </thead>\n",
       "  <tbody>\n",
       "    <tr>\n",
       "      <th>0</th>\n",
       "      <td>Agro Times</td>\n",
       "      <td>Importações de frango pela China devem aumenta...</td>\n",
       "      <td>As importações chinesas de carne de frango dev...</td>\n",
       "      <td>04/02/2022 - 10:00</td>\n",
       "      <td>123</td>\n",
       "      <td>2.0</td>\n",
       "      <td>NaN</td>\n",
       "      <td>125.0</td>\n",
       "      <td>NaN</td>\n",
       "      <td>NaN</td>\n",
       "      <td>NaN</td>\n",
       "      <td>NaN</td>\n",
       "    </tr>\n",
       "    <tr>\n",
       "      <th>1</th>\n",
       "      <td>Agro Times</td>\n",
       "      <td>Decreto presidencial aumenta número de adidos ...</td>\n",
       "      <td>O presidente Jair Bolsonaro editou decreto que...</td>\n",
       "      <td>14/02/2022 - 8:39</td>\n",
       "      <td>96</td>\n",
       "      <td>0.0</td>\n",
       "      <td>NaN</td>\n",
       "      <td>NaN</td>\n",
       "      <td>NaN</td>\n",
       "      <td>NaN</td>\n",
       "      <td>NaN</td>\n",
       "      <td>NaN</td>\n",
       "    </tr>\n",
       "    <tr>\n",
       "      <th>2</th>\n",
       "      <td>Economia</td>\n",
       "      <td>Brasil terá déficit primário de 1,6% do PIB em...</td>\n",
       "      <td>A agência de classificação de risco Moody’s pr...</td>\n",
       "      <td>07/02/2022 - 11:29</td>\n",
       "      <td>117</td>\n",
       "      <td>1.0</td>\n",
       "      <td>NaN</td>\n",
       "      <td>NaN</td>\n",
       "      <td>NaN</td>\n",
       "      <td>NaN</td>\n",
       "      <td>NaN</td>\n",
       "      <td>NaN</td>\n",
       "    </tr>\n",
       "    <tr>\n",
       "      <th>3</th>\n",
       "      <td>Empresas</td>\n",
       "      <td>Ações da Oi (OIBR3) afundam com três conselhei...</td>\n",
       "      <td>As ações da Oi afundam em um momento em que o ...</td>\n",
       "      <td>09/02/2022 - 13:38</td>\n",
       "      <td>107</td>\n",
       "      <td>1.0</td>\n",
       "      <td>NaN</td>\n",
       "      <td>NaN</td>\n",
       "      <td>NaN</td>\n",
       "      <td>NaN</td>\n",
       "      <td>NaN</td>\n",
       "      <td>NaN</td>\n",
       "    </tr>\n",
       "    <tr>\n",
       "      <th>4</th>\n",
       "      <td>Economia</td>\n",
       "      <td>Brasil tem R$ 828 bi de investimentos contrata...</td>\n",
       "      <td>O ministro da Economia, Paulo Guedes, afirmou ...</td>\n",
       "      <td>10/02/2022 - 18:47</td>\n",
       "      <td>102</td>\n",
       "      <td>2.0</td>\n",
       "      <td>NaN</td>\n",
       "      <td>NaN</td>\n",
       "      <td>NaN</td>\n",
       "      <td>NaN</td>\n",
       "      <td>NaN</td>\n",
       "      <td>NaN</td>\n",
       "    </tr>\n",
       "  </tbody>\n",
       "</table>\n",
       "</div>"
      ],
      "text/plain": [
       "     Categoria                                             Titulo  \\\n",
       "0  Agro Times   Importações de frango pela China devem aumenta...   \n",
       "1  Agro Times   Decreto presidencial aumenta número de adidos ...   \n",
       "2    Economia   Brasil terá déficit primário de 1,6% do PIB em...   \n",
       "3    Empresas   Ações da Oi (OIBR3) afundam com três conselhei...   \n",
       "4    Economia   Brasil tem R$ 828 bi de investimentos contrata...   \n",
       "\n",
       "                                       PrimeiroParag                Data  \\\n",
       "0  As importações chinesas de carne de frango dev...  04/02/2022 - 10:00   \n",
       "1  O presidente Jair Bolsonaro editou decreto que...   14/02/2022 - 8:39   \n",
       "2  A agência de classificação de risco Moody’s pr...  07/02/2022 - 11:29   \n",
       "3  As ações da Oi afundam em um momento em que o ...  09/02/2022 - 13:38   \n",
       "4  O ministro da Economia, Paulo Guedes, afirmou ...  10/02/2022 - 18:47   \n",
       "\n",
       "   Pagina  Target  Unnamed: 6  Unnamed: 7  Unnamed: 8  Unnamed: 9  \\\n",
       "0     123     2.0         NaN       125.0         NaN         NaN   \n",
       "1      96     0.0         NaN         NaN         NaN         NaN   \n",
       "2     117     1.0         NaN         NaN         NaN         NaN   \n",
       "3     107     1.0         NaN         NaN         NaN         NaN   \n",
       "4     102     2.0         NaN         NaN         NaN         NaN   \n",
       "\n",
       "   Unnamed: 10 Unnamed: 11  \n",
       "0          NaN         NaN  \n",
       "1          NaN         NaN  \n",
       "2          NaN         NaN  \n",
       "3          NaN         NaN  \n",
       "4          NaN         NaN  "
      ]
     },
     "execution_count": 6,
     "metadata": {},
     "output_type": "execute_result"
    }
   ],
   "source": [
    "test = pd.read_excel(filename, sheet_name = 'Teste')\n",
    "test.head(5)"
   ]
  },
  {
   "cell_type": "markdown",
   "metadata": {},
   "source": [
    "___\n",
    "## Classificador automático\n"
   ]
  },
  {
   "cell_type": "markdown",
   "metadata": {},
   "source": [
    "Faça aqui uma descrição do seu assunto e o que considerou como relevante ou não relevante na classificação das notícias (Target).\n",
    "\n",
    "Escolhemos o tema 'Economia' e classificamos como positivo(relevante(2)) o que afetava de forma positiva a economia do Brasil, como Negativo(irrelevante(1)) o que afetava de forma negativa a economia do Brasil e como neutro(0) o que não influenciava nessa. "
   ]
  },
  {
   "cell_type": "markdown",
   "metadata": {},
   "source": [
    "___\n",
    "### Montando um Classificador Naive-Bayes\n",
    "\n",
    "Considerando apenas as mensagens da planilha Treinamento, ensine  seu classificador."
   ]
  },
  {
   "cell_type": "code",
   "execution_count": null,
   "metadata": {},
   "outputs": [],
   "source": [
    "\n",
    "    "
   ]
  },
  {
   "cell_type": "code",
   "execution_count": 7,
   "metadata": {},
   "outputs": [],
   "source": [
    "classe0=train.loc[train['Target']==0.0,:].PrimeiroParag.str.cat(sep=' ')\n",
    "classe1=train.loc[train['Target']==1.0,:].PrimeiroParag.str.cat(sep=' ')\n",
    "classe2=train.loc[train['Target']==2.0,:].PrimeiroParag.str.cat(sep=' ')\n"
   ]
  },
  {
   "cell_type": "code",
   "execution_count": 8,
   "metadata": {},
   "outputs": [],
   "source": [
    "limpeza0 = cleanup(classe0.lower())\n",
    "limpeza1 = cleanup(classe1.lower())\n",
    "limpeza2 = cleanup(classe2.lower())"
   ]
  },
  {
   "cell_type": "code",
   "execution_count": 9,
   "metadata": {},
   "outputs": [
    {
     "data": {
      "text/plain": [
       "0.0004409171075837742"
      ]
     },
     "execution_count": 9,
     "metadata": {},
     "output_type": "execute_result"
    }
   ],
   "source": [
    "# Quebrando o texto em palavras\n",
    "todas_palavras0 = limpeza0.split()\n",
    "\n",
    "# Guardando as palavras como um pd.Series\n",
    "serie_palavra0 = pd.Series(todas_palavras0)\n",
    "\n",
    "tabela_palavra0 = serie_palavra0.value_counts()\n",
    "tabela_palavra0\n",
    "\n",
    "tabela_palavra0_relativa = serie_palavra0.value_counts(True)\n",
    "tabela_palavra0_relativa\n",
    "\n",
    "tabela_palavra0_relativa.sum()\n",
    "\n",
    "tabela_palavra0_relativa[\"brasil\"]"
   ]
  },
  {
   "cell_type": "code",
   "execution_count": 10,
   "metadata": {},
   "outputs": [
    {
     "data": {
      "text/plain": [
       "0.003474126897056135"
      ]
     },
     "execution_count": 10,
     "metadata": {},
     "output_type": "execute_result"
    }
   ],
   "source": [
    "# Quebrando o texto em palavras\n",
    "todas_palavras1 = limpeza1.split()\n",
    "\n",
    "# Guardando as palavras como um pd.Series\n",
    "serie_palavra1 = pd.Series(todas_palavras1)\n",
    "\n",
    "tabela_palavra1 = serie_palavra1.value_counts()\n",
    "tabela_palavra1\n",
    "\n",
    "tabela_palavra1_relativa = serie_palavra1.value_counts(True)\n",
    "tabela_palavra1_relativa.sum()\n",
    "\n",
    "tabela_palavra1_relativa[\"brasil\"]"
   ]
  },
  {
   "cell_type": "code",
   "execution_count": 11,
   "metadata": {},
   "outputs": [
    {
     "data": {
      "text/plain": [
       "0.005078904407763468"
      ]
     },
     "execution_count": 11,
     "metadata": {},
     "output_type": "execute_result"
    }
   ],
   "source": [
    "# Quebrando o texto em palavras\n",
    "todas_palavras2= limpeza2.split()\n",
    "\n",
    "# Guardando as palavras como um pd.Series\n",
    "serie_palavra2 = pd.Series(todas_palavras2)\n",
    "\n",
    "tabela_palavra2 = serie_palavra2.value_counts()\n",
    "tabela_palavra2\n",
    "\n",
    "tabela_palavra2_relativa = serie_palavra2.value_counts(True)\n",
    "tabela_palavra2_relativa\n",
    "\n",
    "tabela_palavra2_relativa.sum()\n",
    "\n",
    "tabela_palavra2_relativa[\"brasil\"]"
   ]
  },
  {
   "cell_type": "markdown",
   "metadata": {},
   "source": [
    "___\n",
    "### Verificando a performance do Classificador\n",
    "\n",
    "Agora você deve testar o seu classificador com a base de Testes."
   ]
  },
  {
   "cell_type": "code",
   "execution_count": 12,
   "metadata": {},
   "outputs": [],
   "source": [
    "junta_tudo=limpeza0 + limpeza1 + limpeza2"
   ]
  },
  {
   "cell_type": "code",
   "execution_count": 13,
   "metadata": {},
   "outputs": [
    {
     "data": {
      "text/plain": [
       "0                 as\n",
       "1             bolsas\n",
       "2          europeias\n",
       "3           sofreram\n",
       "4             fortes\n",
       "            ...     \n",
       "17779           pela\n",
       "17780      companhia\n",
       "17781          nesta\n",
       "17782    quintafeira\n",
       "17783             24\n",
       "Length: 17784, dtype: object"
      ]
     },
     "execution_count": 13,
     "metadata": {},
     "output_type": "execute_result"
    }
   ],
   "source": [
    "todas_palavras_junta_tudo=junta_tudo.split()\n",
    "serie_junta_tudo=pd.Series(todas_palavras_junta_tudo)\n",
    "serie_junta_tudo"
   ]
  },
  {
   "cell_type": "code",
   "execution_count": 14,
   "metadata": {},
   "outputs": [
    {
     "data": {
      "text/html": [
       "<div>\n",
       "<style scoped>\n",
       "    .dataframe tbody tr th:only-of-type {\n",
       "        vertical-align: middle;\n",
       "    }\n",
       "\n",
       "    .dataframe tbody tr th {\n",
       "        vertical-align: top;\n",
       "    }\n",
       "\n",
       "    .dataframe thead th {\n",
       "        text-align: right;\n",
       "    }\n",
       "</style>\n",
       "<table border=\"1\" class=\"dataframe\">\n",
       "  <thead>\n",
       "    <tr style=\"text-align: right;\">\n",
       "      <th></th>\n",
       "      <th>Categoria</th>\n",
       "      <th>Titulo</th>\n",
       "      <th>PrimeiroParag</th>\n",
       "      <th>Data</th>\n",
       "      <th>Pagina</th>\n",
       "      <th>Target</th>\n",
       "      <th>Unnamed: 6</th>\n",
       "      <th>Unnamed: 7</th>\n",
       "      <th>Unnamed: 8</th>\n",
       "    </tr>\n",
       "  </thead>\n",
       "  <tbody>\n",
       "    <tr>\n",
       "      <th>0</th>\n",
       "      <td>Comprar ou vender?</td>\n",
       "      <td>Magazine Luiza (MGLU3) e Via (VIIA3) são os qu...</td>\n",
       "      <td>Na última sexta-feira (25), o Governo Federal ...</td>\n",
       "      <td>02/03/2022 - 18:37</td>\n",
       "      <td>37.0</td>\n",
       "      <td>2.0</td>\n",
       "      <td>NaN</td>\n",
       "      <td>139.0</td>\n",
       "      <td>NaN</td>\n",
       "    </tr>\n",
       "    <tr>\n",
       "      <th>1</th>\n",
       "      <td>Economia</td>\n",
       "      <td>Inflação argentina atinge 3,9% em janeiro, mai...</td>\n",
       "      <td>O Índice de Preços ao Consumidor (CPI, na sigl...</td>\n",
       "      <td>15/02/2022 - 16:56</td>\n",
       "      <td>88.0</td>\n",
       "      <td>1.0</td>\n",
       "      <td>NaN</td>\n",
       "      <td>NaN</td>\n",
       "      <td>NaN</td>\n",
       "    </tr>\n",
       "    <tr>\n",
       "      <th>2</th>\n",
       "      <td>Agro Times</td>\n",
       "      <td>Preços do açúcar devem cair este ano, pequeno ...</td>\n",
       "      <td>O preço do açúcar bruto deve terminar este ano...</td>\n",
       "      <td>08/02/2022 - 11:05</td>\n",
       "      <td>113.0</td>\n",
       "      <td>1.0</td>\n",
       "      <td>NaN</td>\n",
       "      <td>NaN</td>\n",
       "      <td>NaN</td>\n",
       "    </tr>\n",
       "    <tr>\n",
       "      <th>3</th>\n",
       "      <td>Mercados</td>\n",
       "      <td>Bolsas europeias afundam após ataque russo à U...</td>\n",
       "      <td>As Bolsas europeias sofreram fortes quedas nes...</td>\n",
       "      <td>24/02/2022 - 8:11</td>\n",
       "      <td>58.0</td>\n",
       "      <td>0.0</td>\n",
       "      <td>NaN</td>\n",
       "      <td>NaN</td>\n",
       "      <td>NaN</td>\n",
       "    </tr>\n",
       "    <tr>\n",
       "      <th>4</th>\n",
       "      <td>Mercados</td>\n",
       "      <td>Ibovespa abre em queda, com mercado monitorand...</td>\n",
       "      <td>O Ibovespa (IBOV) abriu esta sexta-feira (4) e...</td>\n",
       "      <td>04/03/2022 - 10:11</td>\n",
       "      <td>28.0</td>\n",
       "      <td>1.0</td>\n",
       "      <td>NaN</td>\n",
       "      <td>NaN</td>\n",
       "      <td>NaN</td>\n",
       "    </tr>\n",
       "    <tr>\n",
       "      <th>...</th>\n",
       "      <td>...</td>\n",
       "      <td>...</td>\n",
       "      <td>...</td>\n",
       "      <td>...</td>\n",
       "      <td>...</td>\n",
       "      <td>...</td>\n",
       "      <td>...</td>\n",
       "      <td>...</td>\n",
       "      <td>...</td>\n",
       "    </tr>\n",
       "    <tr>\n",
       "      <th>895</th>\n",
       "      <td>Política</td>\n",
       "      <td>Deputados divergem sobre possibilidade de vota...</td>\n",
       "      <td>O presidente da Câmara dos Deputados, Arthur L...</td>\n",
       "      <td>23/02/2022 - 14:26</td>\n",
       "      <td>61.0</td>\n",
       "      <td>NaN</td>\n",
       "      <td>NaN</td>\n",
       "      <td>NaN</td>\n",
       "      <td>NaN</td>\n",
       "    </tr>\n",
       "    <tr>\n",
       "      <th>896</th>\n",
       "      <td>Internacional</td>\n",
       "      <td>Rússia tenta converter divisas em ouro para fu...</td>\n",
       "      <td>O congelamento de parte das reservas internaci...</td>\n",
       "      <td>01/03/2022 - 19:29</td>\n",
       "      <td>42.0</td>\n",
       "      <td>NaN</td>\n",
       "      <td>NaN</td>\n",
       "      <td>NaN</td>\n",
       "      <td>NaN</td>\n",
       "    </tr>\n",
       "    <tr>\n",
       "      <th>897</th>\n",
       "      <td>Colunistas</td>\n",
       "      <td>Juliana Irala: Estapar e Zletric unem operações</td>\n",
       "      <td>Ao se fundir com uma startup, uma empresa trad...</td>\n",
       "      <td>01/02/2022 - 13:10</td>\n",
       "      <td>135.0</td>\n",
       "      <td>NaN</td>\n",
       "      <td>NaN</td>\n",
       "      <td>NaN</td>\n",
       "      <td>NaN</td>\n",
       "    </tr>\n",
       "    <tr>\n",
       "      <th>898</th>\n",
       "      <td>Eleições 2022</td>\n",
       "      <td>Lula tem 42,2% das intenções de voto e Bolsona...</td>\n",
       "      <td>Em um possível segundo turno nas eleições de 2...</td>\n",
       "      <td>21/02/2022 - 11:47</td>\n",
       "      <td>71.0</td>\n",
       "      <td>NaN</td>\n",
       "      <td>NaN</td>\n",
       "      <td>NaN</td>\n",
       "      <td>NaN</td>\n",
       "    </tr>\n",
       "    <tr>\n",
       "      <th>899</th>\n",
       "      <td>MT Labs</td>\n",
       "      <td>O Bitcoin sofreu ‘xeque-mate’? Criptoativos qu...</td>\n",
       "      <td>2022 não começou bem para o bitcoin. A princip...</td>\n",
       "      <td>05/02/2022 - 11:00</td>\n",
       "      <td>120.0</td>\n",
       "      <td>NaN</td>\n",
       "      <td>NaN</td>\n",
       "      <td>NaN</td>\n",
       "      <td>NaN</td>\n",
       "    </tr>\n",
       "  </tbody>\n",
       "</table>\n",
       "<p>900 rows × 9 columns</p>\n",
       "</div>"
      ],
      "text/plain": [
       "               Categoria                                             Titulo  \\\n",
       "0    Comprar ou vender?   Magazine Luiza (MGLU3) e Via (VIIA3) são os qu...   \n",
       "1              Economia   Inflação argentina atinge 3,9% em janeiro, mai...   \n",
       "2            Agro Times   Preços do açúcar devem cair este ano, pequeno ...   \n",
       "3              Mercados   Bolsas europeias afundam após ataque russo à U...   \n",
       "4              Mercados   Ibovespa abre em queda, com mercado monitorand...   \n",
       "..                   ...                                                ...   \n",
       "895            Política   Deputados divergem sobre possibilidade de vota...   \n",
       "896       Internacional   Rússia tenta converter divisas em ouro para fu...   \n",
       "897          Colunistas     Juliana Irala: Estapar e Zletric unem operações   \n",
       "898       Eleições 2022   Lula tem 42,2% das intenções de voto e Bolsona...   \n",
       "899              MT Labs  O Bitcoin sofreu ‘xeque-mate’? Criptoativos qu...   \n",
       "\n",
       "                                         PrimeiroParag                Data  \\\n",
       "0    Na última sexta-feira (25), o Governo Federal ...  02/03/2022 - 18:37   \n",
       "1    O Índice de Preços ao Consumidor (CPI, na sigl...  15/02/2022 - 16:56   \n",
       "2    O preço do açúcar bruto deve terminar este ano...  08/02/2022 - 11:05   \n",
       "3    As Bolsas europeias sofreram fortes quedas nes...   24/02/2022 - 8:11   \n",
       "4    O Ibovespa (IBOV) abriu esta sexta-feira (4) e...  04/03/2022 - 10:11   \n",
       "..                                                 ...                 ...   \n",
       "895  O presidente da Câmara dos Deputados, Arthur L...  23/02/2022 - 14:26   \n",
       "896  O congelamento de parte das reservas internaci...  01/03/2022 - 19:29   \n",
       "897  Ao se fundir com uma startup, uma empresa trad...  01/02/2022 - 13:10   \n",
       "898  Em um possível segundo turno nas eleições de 2...  21/02/2022 - 11:47   \n",
       "899  2022 não começou bem para o bitcoin. A princip...  05/02/2022 - 11:00   \n",
       "\n",
       "     Pagina  Target  Unnamed: 6  Unnamed: 7  Unnamed: 8  \n",
       "0      37.0     2.0         NaN       139.0         NaN  \n",
       "1      88.0     1.0         NaN         NaN         NaN  \n",
       "2     113.0     1.0         NaN         NaN         NaN  \n",
       "3      58.0     0.0         NaN         NaN         NaN  \n",
       "4      28.0     1.0         NaN         NaN         NaN  \n",
       "..      ...     ...         ...         ...         ...  \n",
       "895    61.0     NaN         NaN         NaN         NaN  \n",
       "896    42.0     NaN         NaN         NaN         NaN  \n",
       "897   135.0     NaN         NaN         NaN         NaN  \n",
       "898    71.0     NaN         NaN         NaN         NaN  \n",
       "899   120.0     NaN         NaN         NaN         NaN  \n",
       "\n",
       "[900 rows x 9 columns]"
      ]
     },
     "execution_count": 14,
     "metadata": {},
     "output_type": "execute_result"
    }
   ],
   "source": [
    "#Probabilidade do todo\n",
    "# frase=test.loc[test['PrimeiroParag']==1,:]\n",
    "# frase\n",
    "frase=test.PrimeiroParag.loc[2]\n",
    "frase = cleanup(frase.lower())\n",
    "frase.split()\n",
    "train"
   ]
  },
  {
   "cell_type": "code",
   "execution_count": 15,
   "metadata": {},
   "outputs": [
    {
     "name": "stdout",
     "output_type": "stream",
     "text": [
      "6804\n",
      "A probabilidade de ser da target 0 é de 0.38259\n"
     ]
    },
    {
     "data": {
      "text/plain": [
       "0.0    0.418067\n",
       "2.0    0.292017\n",
       "1.0    0.289916\n",
       "Name: Target, dtype: float64"
      ]
     },
     "execution_count": 15,
     "metadata": {},
     "output_type": "execute_result"
    }
   ],
   "source": [
    "print(len(serie_palavra0))\n",
    "prob0=len(serie_palavra0)/len(serie_junta_tudo)\n",
    "print('A probabilidade de ser da target 0 é de {:.5f}'.format(prob0))\n",
    "train.Target.value_counts(True)"
   ]
  },
  {
   "cell_type": "code",
   "execution_count": 16,
   "metadata": {},
   "outputs": [
    {
     "name": "stdout",
     "output_type": "stream",
     "text": [
      "5469\n",
      "A probabilidade de ser da target 1 é de 0.30752\n"
     ]
    },
    {
     "data": {
      "text/plain": [
       "0.0    0.418067\n",
       "2.0    0.292017\n",
       "1.0    0.289916\n",
       "Name: Target, dtype: float64"
      ]
     },
     "execution_count": 16,
     "metadata": {},
     "output_type": "execute_result"
    }
   ],
   "source": [
    "print(len(serie_palavra1))\n",
    "prob1=len(serie_palavra1)/len(serie_junta_tudo)\n",
    "print('A probabilidade de ser da target 1 é de {:.5f}'.format(prob1))\n",
    "train.Target.value_counts(True)"
   ]
  },
  {
   "cell_type": "code",
   "execution_count": null,
   "metadata": {},
   "outputs": [],
   "source": []
  },
  {
   "cell_type": "code",
   "execution_count": 17,
   "metadata": {},
   "outputs": [
    {
     "name": "stdout",
     "output_type": "stream",
     "text": [
      "5513\n",
      "A probabilidade de ser da target 2 é de 0.31000\n"
     ]
    },
    {
     "data": {
      "text/plain": [
       "0.0    0.418067\n",
       "2.0    0.292017\n",
       "1.0    0.289916\n",
       "Name: Target, dtype: float64"
      ]
     },
     "execution_count": 17,
     "metadata": {},
     "output_type": "execute_result"
    }
   ],
   "source": [
    "print(len(serie_palavra2))\n",
    "prob2=len(serie_palavra2)/len(serie_junta_tudo)\n",
    "print('A probabilidade de ser da target 2 é de {:.5f}'.format(prob2))\n",
    "train.Target.value_counts(True)"
   ]
  },
  {
   "cell_type": "markdown",
   "metadata": {},
   "source": [
    "___\n",
    "### Concluindo"
   ]
  },
  {
   "cell_type": "code",
   "execution_count": 20,
   "metadata": {},
   "outputs": [
    {
     "name": "stdout",
     "output_type": "stream",
     "text": [
      "['a', 'agência', 'de', 'classificao', 'de', 'risco', 'moody’s', 'prevê', 'que', 'o', 'brasil', 'volte', 'a', 'apresentar', 'déficit', 'primário', 'em', '2022', 'apesar', 'da', 'consolidao', 'fiscal', 'vista', 'no', 'ano', 'passado', 'em', 'meio', 'a', 'cenário', 'de', 'juros', 'mais', 'altos', 'e', 'crescimento', 'em', 'desacelerao']\n",
      "a\n",
      "agência\n",
      "de\n",
      "classificao\n",
      "de\n",
      "risco\n",
      "moody’s\n",
      "prevê\n",
      "que\n",
      "o\n",
      "brasil\n",
      "volte\n",
      "a\n",
      "apresentar\n",
      "déficit\n",
      "primário\n",
      "em\n",
      "2022\n",
      "apesar\n",
      "da\n",
      "consolidao\n",
      "fiscal\n",
      "vista\n",
      "no\n",
      "ano\n",
      "passado\n",
      "em\n",
      "meio\n",
      "a\n",
      "cenário\n",
      "de\n",
      "juros\n",
      "mais\n",
      "altos\n",
      "e\n",
      "crescimento\n",
      "em\n",
      "desacelerao\n",
      "probFraseDado0 é de 2.2999078763363697e-76\n",
      "probFraseDado1 é de 9.833845131781552e-81\n",
      "probFraseDado2 é de 2.4939555404232755e-69\n"
     ]
    }
   ],
   "source": [
    "#fazer as probabilidades relativas e a priori de acordo com as frases do test e saber a probabilidade de ser 1 ou 2. O mais provável é igu\n",
    "palavras = frase.split()\n",
    "\n",
    "# Guardando as palavras como um pd.Series\n",
    "serie_frase = pd.Series(palavras)\n",
    "serie_frase\n",
    "\n",
    "tabela_frase_relativa = serie_frase.value_counts(True)\n",
    "tabela_frase_relativa\n",
    "\n",
    "probFraseDado0 = 1\n",
    "probFraseDado1= 1\n",
    "probFraseDado2= 1\n",
    "\n",
    "print(palavras)\n",
    "\n",
    "for info in palavras:\n",
    "    print(info)\n",
    "    if info not in tabela_palavra0_relativa or tabela_palavra0_relativa[info]==0:\n",
    "        tabela_palavra0_relativa[info]=1\n",
    "    if info not in tabela_palavra1_relativa or tabela_palavra1_relativa[info]==0:\n",
    "        tabela_palavra1_relativa[info]=1\n",
    "    if info not in tabela_palavra2_relativa or tabela_palavra2_relativa[info]==0:\n",
    "        tabela_palavra2_relativa[info]=1\n",
    "    probFraseDado0*=tabela_palavra0_relativa[info]\n",
    "    probFraseDado1 *= tabela_palavra1_relativa[info]\n",
    "    probFraseDado2 *= tabela_palavra2_relativa[info]\n",
    "\n",
    "    \n",
    "print(\"probFraseDado0 é de {}\".format(probFraseDado0))\n",
    "print(\"probFraseDado1 é de {}\".format(probFraseDado1))\n",
    "print(\"probFraseDado2 é de {}\".format(probFraseDado2))\n"
   ]
  },
  {
   "cell_type": "code",
   "execution_count": null,
   "metadata": {},
   "outputs": [],
   "source": []
  },
  {
   "cell_type": "code",
   "execution_count": null,
   "metadata": {},
   "outputs": [],
   "source": []
  },
  {
   "cell_type": "markdown",
   "metadata": {},
   "source": [
    "___\n",
    "### Qualidade do Classificador a partir de novas separações das notícias entre Treinamento e Teste\n",
    "\n",
    "Caso for fazer esse item do Projeto"
   ]
  },
  {
   "cell_type": "code",
   "execution_count": null,
   "metadata": {},
   "outputs": [],
   "source": []
  },
  {
   "cell_type": "code",
   "execution_count": null,
   "metadata": {},
   "outputs": [],
   "source": [
    "amo meu marido arthur <3"
   ]
  },
  {
   "cell_type": "code",
   "execution_count": null,
   "metadata": {},
   "outputs": [],
   "source": []
  },
  {
   "cell_type": "markdown",
   "metadata": {},
   "source": [
    "___\n",
    "## Aperfeiçoamento:\n",
    "\n",
    "Trabalhos que conseguirem pelo menos conceito B vão evoluir em conceito dependendo da quantidade de itens avançados:\n",
    "\n",
    "* IMPLEMENTOU outras limpezas e transformações que não afetem a qualidade da informação contida nas notícias. Ex: stemming, lemmatization, stopwords\n",
    "* CONSIDEROU mais de duas caterogias na variável Target e INCREMENTOU a quantidade de notícias, mantendo pelo menos 250 notícias por caterogia (OBRIGATÓRIO PARA TRIOS, sem contar como item avançado)\n",
    "* Para Target com duas categorias: CRIOU pelo menos quatro categorias intermediárias de relevância baseadas na probabilidade: ex.: muito relevante, relevante, neutro, irrelevante, muito irrelevante\n",
    "* EXPLICOU porquê não pode usar o próprio classificador para gerar mais amostras de treinamento\n",
    "* PROPÔS diferentes cenários para Naïve Bayes fora do contexto do projeto (pelo menos dois cenários, exceto aqueles já apresentados em sala pelos professores: por exemplo, filtro de spam)\n",
    "* SUGERIU e EXPLICOU melhorias reais com indicações concretas de como implementar (indicar como fazer e indicar material de pesquisa)\n",
    "* FEZ o item Qualidade do Classificador a partir de novas separações das Notícias entre Treinamento e Teste descrito no enunciado do projeto (OBRIGATÓRIO para conceitos A ou A+)"
   ]
  },
  {
   "cell_type": "markdown",
   "metadata": {},
   "source": [
    "___\n",
    "## Referências"
   ]
  },
  {
   "cell_type": "markdown",
   "metadata": {},
   "source": [
    "[Naive Bayes and Text Classification](https://arxiv.org/pdf/1410.5329.pdf)  **Mais completo**\n",
    "\n",
    "[A practical explanation of a Naive Bayes Classifier](https://monkeylearn.com/blog/practical-explanation-naive-bayes-classifier/) **Mais simples**"
   ]
  },
  {
   "cell_type": "code",
   "execution_count": null,
   "metadata": {},
   "outputs": [],
   "source": []
  }
 ],
 "metadata": {
  "kernelspec": {
   "display_name": "Python 3",
   "language": "python",
   "name": "python3"
  },
  "language_info": {
   "codemirror_mode": {
    "name": "ipython",
    "version": 3
   },
   "file_extension": ".py",
   "mimetype": "text/x-python",
   "name": "python",
   "nbconvert_exporter": "python",
   "pygments_lexer": "ipython3",
   "version": "3.7.6"
  }
 },
 "nbformat": 4,
 "nbformat_minor": 4
}
